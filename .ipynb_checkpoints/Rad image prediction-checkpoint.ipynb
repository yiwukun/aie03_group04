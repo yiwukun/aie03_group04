{
 "cells": [
  {
   "cell_type": "markdown",
   "metadata": {},
   "source": [
    "# 项目名称：全球气象AI挑战赛\n",
    "\n",
    "## 项目简介：\n",
    "https://tianchi.aliyun.com/competition/information.htm?spm=5176.100067.5678.2.7a303a0d0zp1r2&raceId=231662  \n",
    "标准雷达数据集2018（SRAD2018）共有32万组数据，其中30万组数据作为训练数据集，1万组数据作为初赛测试集，1万组数据作为决赛测试集。  \n",
    "    （a）训练数据集的每组数据为覆盖6小时、间隔6分钟的雷达样本数据，每个图的尺寸为 501*501*3  \n",
    "    （b）初赛测试集和决赛测试集的每组数据则仅提供前3小时、间隔6分钟的雷达数据，选手需要预测每组数据在后3小时内以30分钟为间隔的雷达图像结果。  \n",
    "\n",
    "## 提交内容:\n",
    "\n",
    "（a） 参赛选手提交的预报数据结果的网格点范围、分辨率、数值范围和缺测值必须按照SRAD2018格式要求。  \n",
    "（b） 参赛选手提交的预测数据文件必须以PNG格式，如果比赛数据样本为：RAD_000000000001000_[000-030].png，预测结果文件命名为：  \n",
    "\n",
    "第30分钟预测结果：RAD_000000000001000_f001.png  \n",
    "第60分钟预测结果：RAD_000000000001000_f002.png  \n",
    "第90分钟预测结果：RAD_000000000001000_f003.png  \n",
    " 第120分钟预测结果：RAD_000000000001000_f004.png  \n",
    " 第150分钟预测结果：RAD_000000000001000_f005.png  \n",
    " 第180分钟预测结果：RAD_000000000001000_f006.png  \n",
    "\n",
    "## 基本思路：\n",
    "\n",
    "思路 | 描述 | 负责人 \n",
    "- | :-: | -: \n",
    "1 | 模型：对输入进行CNN的卷积操作，然后得到特征图之后，进行反卷积操作，得到一个501\\*501\\*3向量，与Y展平做MSE的损失函数，然后展开训练。<br>  输入， 输出：每n(如n=3)帧图片拼接起来作为样本的输入X,第n+1帧作为样本的标签Y。| 易武坤，毕卫松，张辉 \n",
    "2 | GAN，生成对抗判别模型 | 杜文斌、康建东\n",
    "3| 将Image0~ImageT(比如：T=1000？)的每个图的对应的每一个像素，每个通道的值拼接起来，生成501\\*501个独立的向量X1, X2, ...        X251001，每个向量的长度为T , 然后分别训练2510001个回归模型，分别预测T+1时刻的图片的每一个像素点，然后再生成一张图片。 | 郭妍芬、戴珊珊、张雯晨\n"
   ]
  },
  {
   "cell_type": "markdown",
   "metadata": {},
   "source": [
    "# 用视频播放一个样本"
   ]
  },
  {
   "cell_type": "code",
   "execution_count": 6,
   "metadata": {},
   "outputs": [
    {
     "name": "stderr",
     "output_type": "stream",
     "text": [
      "C:\\Users\\Administrator\\Anaconda3\\lib\\site-packages\\imageio\\core\\util.py:104: UserWarning: Conversion from float64 to uint8, range [0.0, 255.0]\n",
      "  'range [{2}, {3}]'.format(dtype_str, out_type.__name__, mi, ma))\n"
     ]
    }
   ],
   "source": [
    "import os\n",
    "import cv2\n",
    "import time\n",
    "import imageio\n",
    "from config import Config\n",
    "\n",
    "def get_all_img_files(root_path):\n",
    "    for root, dirs, img_files in os.walk(root_path):\n",
    "        all_img_files = list(map(lambda path: os.path.join(root, path), img_files))\n",
    "        all_img_files.sort()\n",
    "        return all_img_files\n",
    "\n",
    "def create_gif(gif_name, all_img_files, duration=0.1):\n",
    "    '''\n",
    "    生成gif文件，原始图片仅支持png格式\n",
    "    gif_name ：\n",
    "    all_img_files :\n",
    "    duration :  gif 图像时间间隔\n",
    "    '''\n",
    "    frames = list(map(lambda img_file: imageio.imread(img_file), all_img_files))  # 读取 png 图像文件\n",
    "    # 保存为 gif\n",
    "    imageio.mimsave(gif_name, frames, 'GIF', duration=duration)\n",
    "    return\n",
    "\n",
    "if __name__ == '__main__':\n",
    "    config = Config()    \n",
    "    all_img_path = get_all_img_files('data/train/SRAD2018_TRAIN_001/RAD_206482464212531')\n",
    "    #create_gif('data/video.gif', all_img_path, duration=0.1)\n",
    "    \"\"\"\n",
    "    for img_path in all_img_path:\n",
    "        im = cv2.imread(img_path)\n",
    "        cv2.imshow('a', im)\n",
    "        if cv2.waitKey(1) & 0xFF == ord('q'):\n",
    "            break\n",
    "        time.sleep(0.1)\n",
    "    \"\"\"\n",
    "    cv2.destroyAllWindows()"
   ]
  },
  {
   "cell_type": "markdown",
   "metadata": {},
   "source": [
    "![avatar](data/video.gif)"
   ]
  },
  {
   "cell_type": "code",
   "execution_count": null,
   "metadata": {},
   "outputs": [],
   "source": []
  }
 ],
 "metadata": {
  "kernelspec": {
   "display_name": "Python 3",
   "language": "python",
   "name": "python3"
  },
  "language_info": {
   "codemirror_mode": {
    "name": "ipython",
    "version": 3
   },
   "file_extension": ".py",
   "mimetype": "text/x-python",
   "name": "python",
   "nbconvert_exporter": "python",
   "pygments_lexer": "ipython3",
   "version": "3.6.4"
  }
 },
 "nbformat": 4,
 "nbformat_minor": 2
}
